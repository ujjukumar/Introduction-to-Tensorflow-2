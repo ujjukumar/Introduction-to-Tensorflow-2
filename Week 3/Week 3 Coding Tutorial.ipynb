{
 "cells": [
  {
   "cell_type": "code",
   "execution_count": 25,
   "metadata": {
    "scrolled": true
   },
   "outputs": [
    {
     "name": "stdout",
     "output_type": "stream",
     "text": [
      "2.0.0\n"
     ]
    }
   ],
   "source": [
    "import tensorflow as tf\n",
    "print(tf.__version__)"
   ]
  },
  {
   "cell_type": "markdown",
   "metadata": {},
   "source": [
    "# Validation, regularisation and callbacks"
   ]
  },
  {
   "cell_type": "markdown",
   "metadata": {},
   "source": [
    " ## Coding tutorials\n",
    " #### [1. Validation sets](#coding_tutorial_1)\n",
    " #### [2. Model regularisation](#coding_tutorial_2)\n",
    " #### [3. Introduction to callbacks](#coding_tutorial_3)\n",
    " #### [4. Early stopping / patience](#coding_tutorial_4)"
   ]
  },
  {
   "cell_type": "markdown",
   "metadata": {},
   "source": [
    "***\n",
    "<a id=\"coding_tutorial_1\"></a>\n",
    "## Validation sets"
   ]
  },
  {
   "cell_type": "markdown",
   "metadata": {},
   "source": [
    "#### Load the data"
   ]
  },
  {
   "cell_type": "code",
   "execution_count": 26,
   "metadata": {},
   "outputs": [
    {
     "name": "stdout",
     "output_type": "stream",
     "text": [
      ".. _diabetes_dataset:\n",
      "\n",
      "Diabetes dataset\n",
      "----------------\n",
      "\n",
      "Ten baseline variables, age, sex, body mass index, average blood\n",
      "pressure, and six blood serum measurements were obtained for each of n =\n",
      "442 diabetes patients, as well as the response of interest, a\n",
      "quantitative measure of disease progression one year after baseline.\n",
      "\n",
      "**Data Set Characteristics:**\n",
      "\n",
      "  :Number of Instances: 442\n",
      "\n",
      "  :Number of Attributes: First 10 columns are numeric predictive values\n",
      "\n",
      "  :Target: Column 11 is a quantitative measure of disease progression one year after baseline\n",
      "\n",
      "  :Attribute Information:\n",
      "      - Age\n",
      "      - Sex\n",
      "      - Body mass index\n",
      "      - Average blood pressure\n",
      "      - S1\n",
      "      - S2\n",
      "      - S3\n",
      "      - S4\n",
      "      - S5\n",
      "      - S6\n",
      "\n",
      "Note: Each of these 10 feature variables have been mean centered and scaled by the standard deviation times `n_samples` (i.e. the sum of squares of each column totals 1).\n",
      "\n",
      "Source URL:\n",
      "http://www4.stat.ncsu.edu/~boos/var.select/diabetes.html\n",
      "\n",
      "For more information see:\n",
      "Bradley Efron, Trevor Hastie, Iain Johnstone and Robert Tibshirani (2004) \"Least Angle Regression,\" Annals of Statistics (with discussion), 407-499.\n",
      "(http://web.stanford.edu/~hastie/Papers/LARS/LeastAngle_2002.pdf)\n"
     ]
    }
   ],
   "source": [
    "# Load the diabetes dataset\n",
    "\n",
    "from sklearn.datasets import load_diabetes\n",
    "\n",
    "diabetes_dataset = load_diabetes()\n",
    "print(diabetes_dataset[\"DESCR\"])"
   ]
  },
  {
   "cell_type": "code",
   "execution_count": 27,
   "metadata": {},
   "outputs": [],
   "source": [
    "# Save the input and target variables\n",
    "\n",
    "data = diabetes_dataset[\"data\"]\n",
    "target = diabetes_dataset[\"target\"]"
   ]
  },
  {
   "cell_type": "code",
   "execution_count": 28,
   "metadata": {},
   "outputs": [],
   "source": [
    "# Normalise the target data (this will make clearer training curves)\n",
    "\n",
    "target = (target - target.mean(axis=0)) / target.std()"
   ]
  },
  {
   "cell_type": "code",
   "execution_count": 29,
   "metadata": {},
   "outputs": [],
   "source": [
    "# Split the data into train and test sets\n",
    "\n",
    "from sklearn.model_selection import train_test_split\n",
    "\n",
    "train_data, test_data, train_targets, test_targets = train_test_split(data, target, test_size=0.1)"
   ]
  },
  {
   "cell_type": "code",
   "execution_count": 30,
   "metadata": {},
   "outputs": [
    {
     "data": {
      "text/plain": [
       "(45, 10)"
      ]
     },
     "execution_count": 30,
     "metadata": {},
     "output_type": "execute_result"
    }
   ],
   "source": [
    "test_data.shape"
   ]
  },
  {
   "cell_type": "markdown",
   "metadata": {},
   "source": [
    "#### Train a feedforward neural network model"
   ]
  },
  {
   "cell_type": "code",
   "execution_count": 31,
   "metadata": {},
   "outputs": [],
   "source": [
    "# Build the model\n",
    "\n",
    "from tensorflow.keras.models import Sequential\n",
    "from tensorflow.keras.layers import Dense\n",
    "\n",
    "def get_model():\n",
    "    model = Sequential([\n",
    "        Dense(128, activation='relu', input_shape=(train_data.shape[1],)),\n",
    "        Dense(128, activation='relu'),\n",
    "        Dense(128, activation='relu'),\n",
    "        Dense(128, activation='relu'),\n",
    "        Dense(128, activation='relu'),\n",
    "        Dense(128, activation='relu'),\n",
    "        Dense(1)\n",
    "    ])\n",
    "    return model\n",
    "\n",
    "model = get_model()"
   ]
  },
  {
   "cell_type": "code",
   "execution_count": 32,
   "metadata": {},
   "outputs": [
    {
     "name": "stdout",
     "output_type": "stream",
     "text": [
      "Model: \"sequential_2\"\n",
      "_________________________________________________________________\n",
      "Layer (type)                 Output Shape              Param #   \n",
      "=================================================================\n",
      "dense_14 (Dense)             (None, 128)               1408      \n",
      "_________________________________________________________________\n",
      "dense_15 (Dense)             (None, 128)               16512     \n",
      "_________________________________________________________________\n",
      "dense_16 (Dense)             (None, 128)               16512     \n",
      "_________________________________________________________________\n",
      "dense_17 (Dense)             (None, 128)               16512     \n",
      "_________________________________________________________________\n",
      "dense_18 (Dense)             (None, 128)               16512     \n",
      "_________________________________________________________________\n",
      "dense_19 (Dense)             (None, 128)               16512     \n",
      "_________________________________________________________________\n",
      "dense_20 (Dense)             (None, 1)                 129       \n",
      "=================================================================\n",
      "Total params: 84,097\n",
      "Trainable params: 84,097\n",
      "Non-trainable params: 0\n",
      "_________________________________________________________________\n"
     ]
    }
   ],
   "source": [
    "# Print the model summary\n",
    "\n",
    "model.summary()"
   ]
  },
  {
   "cell_type": "code",
   "execution_count": 33,
   "metadata": {},
   "outputs": [],
   "source": [
    "# Compile the model\n",
    "\n",
    "model.compile(optimizer='adam', loss='mse', metrics=['mae'])"
   ]
  },
  {
   "cell_type": "code",
   "execution_count": 34,
   "metadata": {},
   "outputs": [
    {
     "name": "stdout",
     "output_type": "stream",
     "text": [
      "Train on 337 samples, validate on 60 samples\n",
      "Epoch 1/100\n",
      "337/337 [==============================] - 1s 4ms/sample - loss: 0.9504 - mae: 0.8277 - val_loss: 1.0385 - val_mae: 0.8959\n",
      "Epoch 2/100\n",
      "337/337 [==============================] - 0s 268us/sample - loss: 0.8493 - mae: 0.7769 - val_loss: 0.7902 - val_mae: 0.7675\n",
      "Epoch 3/100\n",
      "337/337 [==============================] - 0s 300us/sample - loss: 0.6710 - mae: 0.6707 - val_loss: 0.5623 - val_mae: 0.6255\n",
      "Epoch 4/100\n",
      "337/337 [==============================] - 0s 296us/sample - loss: 0.5801 - mae: 0.6164 - val_loss: 0.5010 - val_mae: 0.5500\n",
      "Epoch 5/100\n",
      "337/337 [==============================] - 0s 301us/sample - loss: 0.5251 - mae: 0.5842 - val_loss: 0.6146 - val_mae: 0.6583\n",
      "Epoch 6/100\n",
      "337/337 [==============================] - 0s 309us/sample - loss: 0.4891 - mae: 0.5775 - val_loss: 0.4900 - val_mae: 0.5340\n",
      "Epoch 7/100\n",
      "337/337 [==============================] - 0s 303us/sample - loss: 0.4827 - mae: 0.5553 - val_loss: 0.5033 - val_mae: 0.5595\n",
      "Epoch 8/100\n",
      "337/337 [==============================] - 0s 293us/sample - loss: 0.4540 - mae: 0.5442 - val_loss: 0.4858 - val_mae: 0.5402\n",
      "Epoch 9/100\n",
      "337/337 [==============================] - 0s 297us/sample - loss: 0.4499 - mae: 0.5444 - val_loss: 0.5097 - val_mae: 0.5683\n",
      "Epoch 10/100\n",
      "337/337 [==============================] - 0s 292us/sample - loss: 0.4259 - mae: 0.5224 - val_loss: 0.4752 - val_mae: 0.5357\n",
      "Epoch 11/100\n",
      "337/337 [==============================] - 0s 302us/sample - loss: 0.4197 - mae: 0.5152 - val_loss: 0.4834 - val_mae: 0.5496\n",
      "Epoch 12/100\n",
      "337/337 [==============================] - 0s 302us/sample - loss: 0.4146 - mae: 0.5133 - val_loss: 0.4878 - val_mae: 0.5567\n",
      "Epoch 13/100\n",
      "337/337 [==============================] - 0s 307us/sample - loss: 0.3992 - mae: 0.5033 - val_loss: 0.4886 - val_mae: 0.5520\n",
      "Epoch 14/100\n",
      "337/337 [==============================] - 0s 299us/sample - loss: 0.4001 - mae: 0.4962 - val_loss: 0.5003 - val_mae: 0.5550\n",
      "Epoch 15/100\n",
      "337/337 [==============================] - 0s 298us/sample - loss: 0.4092 - mae: 0.5043 - val_loss: 0.6076 - val_mae: 0.6369\n",
      "Epoch 16/100\n",
      "337/337 [==============================] - 0s 300us/sample - loss: 0.4178 - mae: 0.5202 - val_loss: 0.5371 - val_mae: 0.5667\n",
      "Epoch 17/100\n",
      "337/337 [==============================] - 0s 310us/sample - loss: 0.3716 - mae: 0.4697 - val_loss: 0.6005 - val_mae: 0.6253\n",
      "Epoch 18/100\n",
      "337/337 [==============================] - 0s 304us/sample - loss: 0.4000 - mae: 0.5187 - val_loss: 0.5545 - val_mae: 0.5967\n",
      "Epoch 19/100\n",
      "337/337 [==============================] - 0s 295us/sample - loss: 0.3765 - mae: 0.4926 - val_loss: 0.5750 - val_mae: 0.6072\n",
      "Epoch 20/100\n",
      "337/337 [==============================] - 0s 300us/sample - loss: 0.3724 - mae: 0.4782 - val_loss: 0.5455 - val_mae: 0.5819\n",
      "Epoch 21/100\n",
      "337/337 [==============================] - 0s 297us/sample - loss: 0.3649 - mae: 0.4794 - val_loss: 0.5469 - val_mae: 0.5908\n",
      "Epoch 22/100\n",
      "337/337 [==============================] - 0s 302us/sample - loss: 0.3630 - mae: 0.4778 - val_loss: 0.5759 - val_mae: 0.6081\n",
      "Epoch 23/100\n",
      "337/337 [==============================] - 0s 300us/sample - loss: 0.3364 - mae: 0.4553 - val_loss: 0.5519 - val_mae: 0.5729\n",
      "Epoch 24/100\n",
      "337/337 [==============================] - 0s 302us/sample - loss: 0.3555 - mae: 0.4722 - val_loss: 0.5528 - val_mae: 0.5895\n",
      "Epoch 25/100\n",
      "337/337 [==============================] - 0s 535us/sample - loss: 0.3363 - mae: 0.4523 - val_loss: 0.6095 - val_mae: 0.6315\n",
      "Epoch 26/100\n",
      "337/337 [==============================] - 0s 68us/sample - loss: 0.3308 - mae: 0.4510 - val_loss: 0.5580 - val_mae: 0.6008\n",
      "Epoch 27/100\n",
      "337/337 [==============================] - 0s 68us/sample - loss: 0.3164 - mae: 0.4456 - val_loss: 0.5630 - val_mae: 0.5787\n",
      "Epoch 28/100\n",
      "337/337 [==============================] - 0s 528us/sample - loss: 0.3407 - mae: 0.4621 - val_loss: 0.6147 - val_mae: 0.6378\n",
      "Epoch 29/100\n",
      "337/337 [==============================] - 0s 308us/sample - loss: 0.3081 - mae: 0.4367 - val_loss: 0.5865 - val_mae: 0.6154\n",
      "Epoch 30/100\n",
      "337/337 [==============================] - 0s 295us/sample - loss: 0.3034 - mae: 0.4284 - val_loss: 0.5742 - val_mae: 0.5943\n",
      "Epoch 31/100\n",
      "337/337 [==============================] - 0s 302us/sample - loss: 0.2947 - mae: 0.4269 - val_loss: 0.5869 - val_mae: 0.6168\n",
      "Epoch 32/100\n",
      "337/337 [==============================] - 0s 295us/sample - loss: 0.2942 - mae: 0.4230 - val_loss: 0.5926 - val_mae: 0.6110\n",
      "Epoch 33/100\n",
      "337/337 [==============================] - 0s 298us/sample - loss: 0.2721 - mae: 0.4074 - val_loss: 0.6336 - val_mae: 0.6481\n",
      "Epoch 34/100\n",
      "337/337 [==============================] - 0s 301us/sample - loss: 0.2650 - mae: 0.4083 - val_loss: 0.6278 - val_mae: 0.6405\n",
      "Epoch 35/100\n",
      "337/337 [==============================] - 0s 303us/sample - loss: 0.2517 - mae: 0.3937 - val_loss: 0.6771 - val_mae: 0.6657\n",
      "Epoch 36/100\n",
      "337/337 [==============================] - 0s 319us/sample - loss: 0.2522 - mae: 0.3875 - val_loss: 0.6322 - val_mae: 0.6326\n",
      "Epoch 37/100\n",
      "337/337 [==============================] - 0s 285us/sample - loss: 0.2442 - mae: 0.3913 - val_loss: 0.6243 - val_mae: 0.6184\n",
      "Epoch 38/100\n",
      "337/337 [==============================] - 0s 295us/sample - loss: 0.2472 - mae: 0.3841 - val_loss: 0.6097 - val_mae: 0.6030\n",
      "Epoch 39/100\n",
      "337/337 [==============================] - 0s 298us/sample - loss: 0.2771 - mae: 0.4151 - val_loss: 0.6521 - val_mae: 0.6124\n",
      "Epoch 40/100\n",
      "337/337 [==============================] - 0s 68us/sample - loss: 0.2389 - mae: 0.3782 - val_loss: 0.8448 - val_mae: 0.7460\n",
      "Epoch 41/100\n",
      "337/337 [==============================] - 0s 526us/sample - loss: 0.2344 - mae: 0.3818 - val_loss: 0.6953 - val_mae: 0.6767\n",
      "Epoch 42/100\n",
      "337/337 [==============================] - 0s 295us/sample - loss: 0.2527 - mae: 0.3841 - val_loss: 0.5755 - val_mae: 0.5733\n",
      "Epoch 43/100\n",
      "337/337 [==============================] - 0s 310us/sample - loss: 0.2491 - mae: 0.3952 - val_loss: 0.5842 - val_mae: 0.5826\n",
      "Epoch 44/100\n",
      "337/337 [==============================] - 0s 302us/sample - loss: 0.2704 - mae: 0.4170 - val_loss: 0.7472 - val_mae: 0.7211\n",
      "Epoch 45/100\n",
      "337/337 [==============================] - 0s 302us/sample - loss: 0.2509 - mae: 0.3929 - val_loss: 0.6019 - val_mae: 0.6135\n",
      "Epoch 46/100\n",
      "337/337 [==============================] - 0s 297us/sample - loss: 0.1993 - mae: 0.3426 - val_loss: 0.6074 - val_mae: 0.5872\n",
      "Epoch 47/100\n",
      "337/337 [==============================] - 0s 302us/sample - loss: 0.2074 - mae: 0.3515 - val_loss: 0.5681 - val_mae: 0.5955\n",
      "Epoch 48/100\n",
      "337/337 [==============================] - 0s 299us/sample - loss: 0.1955 - mae: 0.3403 - val_loss: 0.7935 - val_mae: 0.7326\n",
      "Epoch 49/100\n",
      "337/337 [==============================] - 0s 298us/sample - loss: 0.2008 - mae: 0.3450 - val_loss: 0.7256 - val_mae: 0.6954\n",
      "Epoch 50/100\n",
      "337/337 [==============================] - 0s 301us/sample - loss: 0.1746 - mae: 0.3189 - val_loss: 0.6093 - val_mae: 0.6251\n",
      "Epoch 51/100\n",
      "337/337 [==============================] - 0s 293us/sample - loss: 0.1592 - mae: 0.3070 - val_loss: 0.6434 - val_mae: 0.6528\n",
      "Epoch 52/100\n",
      "337/337 [==============================] - 0s 294us/sample - loss: 0.1526 - mae: 0.3004 - val_loss: 0.6550 - val_mae: 0.6622\n",
      "Epoch 53/100\n",
      "337/337 [==============================] - 0s 294us/sample - loss: 0.1418 - mae: 0.2872 - val_loss: 0.7060 - val_mae: 0.6904\n",
      "Epoch 54/100\n",
      "337/337 [==============================] - 0s 68us/sample - loss: 0.1381 - mae: 0.2838 - val_loss: 0.6681 - val_mae: 0.6670\n",
      "Epoch 55/100\n",
      "337/337 [==============================] - 0s 300us/sample - loss: 0.1361 - mae: 0.2830 - val_loss: 0.6794 - val_mae: 0.6750\n",
      "Epoch 56/100\n",
      "337/337 [==============================] - 0s 299us/sample - loss: 0.1283 - mae: 0.2748 - val_loss: 0.5982 - val_mae: 0.6269\n",
      "Epoch 57/100\n",
      "337/337 [==============================] - 0s 292us/sample - loss: 0.1156 - mae: 0.2550 - val_loss: 0.6262 - val_mae: 0.6112\n",
      "Epoch 58/100\n",
      "337/337 [==============================] - 0s 307us/sample - loss: 0.1203 - mae: 0.2611 - val_loss: 0.6263 - val_mae: 0.6262\n",
      "Epoch 59/100\n",
      "337/337 [==============================] - 0s 299us/sample - loss: 0.1077 - mae: 0.2459 - val_loss: 0.6732 - val_mae: 0.6232\n",
      "Epoch 60/100\n"
     ]
    },
    {
     "name": "stdout",
     "output_type": "stream",
     "text": [
      "337/337 [==============================] - 0s 307us/sample - loss: 0.1201 - mae: 0.2659 - val_loss: 0.6008 - val_mae: 0.6047\n",
      "Epoch 61/100\n",
      "337/337 [==============================] - 0s 299us/sample - loss: 0.1371 - mae: 0.2932 - val_loss: 0.6860 - val_mae: 0.6442\n",
      "Epoch 62/100\n",
      "337/337 [==============================] - 0s 295us/sample - loss: 0.1281 - mae: 0.2751 - val_loss: 0.6599 - val_mae: 0.6641\n",
      "Epoch 63/100\n",
      "337/337 [==============================] - 0s 304us/sample - loss: 0.1505 - mae: 0.2966 - val_loss: 0.6482 - val_mae: 0.6538\n",
      "Epoch 64/100\n",
      "337/337 [==============================] - 0s 301us/sample - loss: 0.1443 - mae: 0.2996 - val_loss: 0.6076 - val_mae: 0.6246\n",
      "Epoch 65/100\n",
      "337/337 [==============================] - 0s 290us/sample - loss: 0.1296 - mae: 0.2805 - val_loss: 0.6265 - val_mae: 0.6327\n",
      "Epoch 66/100\n",
      "337/337 [==============================] - 0s 299us/sample - loss: 0.1069 - mae: 0.2487 - val_loss: 0.6202 - val_mae: 0.6392\n",
      "Epoch 67/100\n",
      "337/337 [==============================] - 0s 296us/sample - loss: 0.0930 - mae: 0.2316 - val_loss: 0.6665 - val_mae: 0.6605\n",
      "Epoch 68/100\n",
      "337/337 [==============================] - 0s 295us/sample - loss: 0.1000 - mae: 0.2389 - val_loss: 0.6275 - val_mae: 0.6418\n",
      "Epoch 69/100\n",
      "337/337 [==============================] - 0s 66us/sample - loss: 0.0978 - mae: 0.2383 - val_loss: 0.6653 - val_mae: 0.6585\n",
      "Epoch 70/100\n",
      "337/337 [==============================] - 0s 529us/sample - loss: 0.0856 - mae: 0.2151 - val_loss: 0.6365 - val_mae: 0.6182\n",
      "Epoch 71/100\n",
      "337/337 [==============================] - 0s 309us/sample - loss: 0.0852 - mae: 0.2202 - val_loss: 0.6648 - val_mae: 0.6485\n",
      "Epoch 72/100\n",
      "337/337 [==============================] - 0s 297us/sample - loss: 0.0776 - mae: 0.2096 - val_loss: 0.6279 - val_mae: 0.6440\n",
      "Epoch 73/100\n",
      "337/337 [==============================] - 0s 310us/sample - loss: 0.0720 - mae: 0.2031 - val_loss: 0.7322 - val_mae: 0.6948\n",
      "Epoch 74/100\n",
      "337/337 [==============================] - 0s 293us/sample - loss: 0.0722 - mae: 0.2016 - val_loss: 0.6484 - val_mae: 0.6521\n",
      "Epoch 75/100\n",
      "337/337 [==============================] - 0s 294us/sample - loss: 0.0772 - mae: 0.2151 - val_loss: 0.6314 - val_mae: 0.6239\n",
      "Epoch 76/100\n",
      "337/337 [==============================] - 0s 302us/sample - loss: 0.0659 - mae: 0.1915 - val_loss: 0.6688 - val_mae: 0.6555\n",
      "Epoch 77/100\n",
      "337/337 [==============================] - 0s 300us/sample - loss: 0.0590 - mae: 0.1758 - val_loss: 0.6420 - val_mae: 0.6176\n",
      "Epoch 78/100\n",
      "337/337 [==============================] - 0s 300us/sample - loss: 0.0609 - mae: 0.1872 - val_loss: 0.6532 - val_mae: 0.6145\n",
      "Epoch 79/100\n",
      "337/337 [==============================] - 0s 298us/sample - loss: 0.0612 - mae: 0.1849 - val_loss: 0.5988 - val_mae: 0.6001\n",
      "Epoch 80/100\n",
      "337/337 [==============================] - 0s 300us/sample - loss: 0.0681 - mae: 0.2027 - val_loss: 0.6976 - val_mae: 0.6833\n",
      "Epoch 81/100\n",
      "337/337 [==============================] - 0s 70us/sample - loss: 0.0587 - mae: 0.1864 - val_loss: 0.6563 - val_mae: 0.6076\n",
      "Epoch 82/100\n",
      "337/337 [==============================] - 0s 69us/sample - loss: 0.0741 - mae: 0.2087 - val_loss: 0.6142 - val_mae: 0.5913\n",
      "Epoch 83/100\n",
      "337/337 [==============================] - 0s 308us/sample - loss: 0.0661 - mae: 0.1985 - val_loss: 0.6756 - val_mae: 0.6539\n",
      "Epoch 84/100\n",
      "337/337 [==============================] - 0s 294us/sample - loss: 0.0638 - mae: 0.1921 - val_loss: 0.6576 - val_mae: 0.6096\n",
      "Epoch 85/100\n",
      "337/337 [==============================] - 0s 288us/sample - loss: 0.0760 - mae: 0.2169 - val_loss: 0.6364 - val_mae: 0.5837\n",
      "Epoch 86/100\n",
      "337/337 [==============================] - 0s 308us/sample - loss: 0.0829 - mae: 0.2310 - val_loss: 0.5902 - val_mae: 0.5908\n",
      "Epoch 87/100\n",
      "337/337 [==============================] - 0s 302us/sample - loss: 0.0786 - mae: 0.2175 - val_loss: 0.6452 - val_mae: 0.6485\n",
      "Epoch 88/100\n",
      "337/337 [==============================] - 0s 298us/sample - loss: 0.0622 - mae: 0.1945 - val_loss: 0.6265 - val_mae: 0.6343\n",
      "Epoch 89/100\n",
      "337/337 [==============================] - 0s 301us/sample - loss: 0.0516 - mae: 0.1707 - val_loss: 0.6566 - val_mae: 0.6576\n",
      "Epoch 90/100\n",
      "337/337 [==============================] - 0s 298us/sample - loss: 0.0460 - mae: 0.1602 - val_loss: 0.7296 - val_mae: 0.7020\n",
      "Epoch 91/100\n",
      "337/337 [==============================] - 0s 298us/sample - loss: 0.0646 - mae: 0.2000 - val_loss: 0.5987 - val_mae: 0.6036\n",
      "Epoch 92/100\n",
      "337/337 [==============================] - 0s 300us/sample - loss: 0.0618 - mae: 0.1951 - val_loss: 0.5903 - val_mae: 0.5678\n",
      "Epoch 93/100\n",
      "337/337 [==============================] - 0s 301us/sample - loss: 0.0778 - mae: 0.2225 - val_loss: 0.6713 - val_mae: 0.5967\n",
      "Epoch 94/100\n",
      "337/337 [==============================] - 0s 300us/sample - loss: 0.0725 - mae: 0.2141 - val_loss: 0.6610 - val_mae: 0.6084\n",
      "Epoch 95/100\n",
      "337/337 [==============================] - 0s 295us/sample - loss: 0.0754 - mae: 0.2153 - val_loss: 0.6308 - val_mae: 0.6190\n",
      "Epoch 96/100\n",
      "337/337 [==============================] - 0s 294us/sample - loss: 0.0484 - mae: 0.1665 - val_loss: 0.6305 - val_mae: 0.6063\n",
      "Epoch 97/100\n",
      "337/337 [==============================] - 0s 295us/sample - loss: 0.0461 - mae: 0.1638 - val_loss: 0.6679 - val_mae: 0.6263\n",
      "Epoch 98/100\n",
      "337/337 [==============================] - 0s 300us/sample - loss: 0.0546 - mae: 0.1788 - val_loss: 0.6287 - val_mae: 0.6339\n",
      "Epoch 99/100\n",
      "337/337 [==============================] - 0s 310us/sample - loss: 0.0549 - mae: 0.1841 - val_loss: 0.6131 - val_mae: 0.6389\n",
      "Epoch 100/100\n",
      "337/337 [==============================] - 0s 294us/sample - loss: 0.0446 - mae: 0.1645 - val_loss: 0.6455 - val_mae: 0.6308\n"
     ]
    }
   ],
   "source": [
    "# Train the model, with some of the data reserved for validation\n",
    "\n",
    "history = model.fit(train_data, train_targets, epochs=100,\n",
    "                   validation_split=0.15, batch_size=64)"
   ]
  },
  {
   "cell_type": "code",
   "execution_count": 35,
   "metadata": {},
   "outputs": [
    {
     "name": "stdout",
     "output_type": "stream",
     "text": [
      "\r",
      "45/1 [======================================================================================================================================================================================================================================================================================================================================================================================================================================================================================================================================================================================================================================================================================================================================================================================================================================================================================================================================================================================================================================================================================================================================================================================================================================================================================================================================================================================================] - 0s 1ms/sample - loss: 1.3576 - mae: 0.7912\n"
     ]
    },
    {
     "data": {
      "text/plain": [
       "[1.0689194864696927, 0.7911833]"
      ]
     },
     "execution_count": 35,
     "metadata": {},
     "output_type": "execute_result"
    }
   ],
   "source": [
    "# Evaluate the model on the test set\n",
    "\n",
    "model.evaluate(test_data, test_targets)"
   ]
  },
  {
   "cell_type": "markdown",
   "metadata": {},
   "source": [
    "#### Plot the learning curves"
   ]
  },
  {
   "cell_type": "code",
   "execution_count": 36,
   "metadata": {},
   "outputs": [],
   "source": [
    "import matplotlib.pyplot as plt\n",
    "%matplotlib inline"
   ]
  },
  {
   "cell_type": "code",
   "execution_count": 37,
   "metadata": {},
   "outputs": [
    {
     "data": {
      "image/png": "[encoded data removed]",
      "text/plain": [
       "<Figure size 432x288 with 1 Axes>"
      ]
     },
     "metadata": {
      "needs_background": "light"
     },
     "output_type": "display_data"
    }
   ],
   "source": [
    "# Plot the training and validation loss\n",
    "\n",
    "plt.plot(history.history['loss'])\n",
    "plt.plot(history.history['val_loss'])\n",
    "plt.title('Loss vs. epochs')\n",
    "plt.ylabel('Loss')\n",
    "plt.xlabel('Epoch')\n",
    "plt.legend(['Training', 'Validation'], loc='upper right')\n",
    "plt.show()"
   ]
  },
  {
   "cell_type": "markdown",
   "metadata": {},
   "source": [
    "***\n",
    "<a id=\"coding_tutorial_2\"></a>\n",
    "## Model regularisation"
   ]
  },
  {
   "cell_type": "markdown",
   "metadata": {},
   "source": [
    "#### Adding regularisation with weight decay and dropout"
   ]
  },
  {
   "cell_type": "code",
   "execution_count": 38,
   "metadata": {},
   "outputs": [],
   "source": [
    "from tensorflow.keras.layers import Dropout\n",
    "from tensorflow.keras import regularizers"
   ]
  },
  {
   "cell_type": "code",
   "execution_count": 39,
   "metadata": {},
   "outputs": [],
   "source": [
    "def get_regularised_model(wd, rate):\n",
    "    model = Sequential([\n",
    "        Dense(128, activation=\"relu\", kernel_regularizer=regularizers.l2(wd), input_shape=(train_data.shape[1],)),\n",
    "        Dropout(rate),\n",
    "        Dense(128, kernel_regularizer=regularizers.l2(wd), activation=\"relu\"),\n",
    "        Dropout(rate),\n",
    "        Dense(128, kernel_regularizer=regularizers.l2(wd), activation=\"relu\"),\n",
    "        Dropout(rate),\n",
    "        Dense(128, kernel_regularizer=regularizers.l2(wd), activation=\"relu\"),\n",
    "        Dropout(rate),\n",
    "        Dense(128, kernel_regularizer=regularizers.l2(wd), activation=\"relu\"),\n",
    "        Dropout(rate),\n",
    "        Dense(128, kernel_regularizer=regularizers.l2(wd), activation=\"relu\"),\n",
    "        Dropout(rate),\n",
    "        Dense(1)\n",
    "    ])\n",
    "    return model"
   ]
  },
  {
   "cell_type": "code",
   "execution_count": 40,
   "metadata": {},
   "outputs": [],
   "source": [
    "# Re-build the model with weight decay and dropout layers\n",
    "\n",
    "model = get_regularised_model(1e-5, 0.3)"
   ]
  },
  {
   "cell_type": "code",
   "execution_count": 41,
   "metadata": {},
   "outputs": [],
   "source": [
    "# Compile the model\n",
    "\n",
    "model.compile(optimizer='adam', loss='mse', metrics=['mae'])"
   ]
  },
  {
   "cell_type": "code",
   "execution_count": 42,
   "metadata": {},
   "outputs": [
    {
     "name": "stdout",
     "output_type": "stream",
     "text": [
      "Train on 337 samples, validate on 60 samples\n",
      "Epoch 1/100\n",
      "337/337 [==============================] - 2s 6ms/sample - loss: 0.9710 - mae: 0.8329 - val_loss: 1.1199 - val_mae: 0.9292\n",
      "Epoch 2/100\n",
      "337/337 [==============================] - 0s 309us/sample - loss: 0.9635 - mae: 0.8306 - val_loss: 1.1003 - val_mae: 0.9206\n",
      "Epoch 3/100\n",
      "337/337 [==============================] - 0s 321us/sample - loss: 0.9500 - mae: 0.8235 - val_loss: 1.0405 - val_mae: 0.8940\n",
      "Epoch 4/100\n",
      "337/337 [==============================] - 0s 313us/sample - loss: 0.8988 - mae: 0.7995 - val_loss: 0.8900 - val_mae: 0.8233\n",
      "Epoch 5/100\n",
      "337/337 [==============================] - 0s 538us/sample - loss: 0.8040 - mae: 0.7570 - val_loss: 0.6392 - val_mae: 0.6861\n",
      "Epoch 6/100\n",
      "337/337 [==============================] - 0s 327us/sample - loss: 0.6452 - mae: 0.6631 - val_loss: 0.5400 - val_mae: 0.5861\n",
      "Epoch 7/100\n",
      "337/337 [==============================] - 0s 310us/sample - loss: 0.6485 - mae: 0.6541 - val_loss: 0.5340 - val_mae: 0.5962\n",
      "Epoch 8/100\n",
      "337/337 [==============================] - 0s 541us/sample - loss: 0.5656 - mae: 0.6191 - val_loss: 0.5209 - val_mae: 0.5882\n",
      "Epoch 9/100\n",
      "337/337 [==============================] - 0s 322us/sample - loss: 0.5932 - mae: 0.6221 - val_loss: 0.5168 - val_mae: 0.5803\n",
      "Epoch 10/100\n",
      "337/337 [==============================] - 0s 307us/sample - loss: 0.5897 - mae: 0.6366 - val_loss: 0.5489 - val_mae: 0.6161\n",
      "Epoch 11/100\n",
      "337/337 [==============================] - 0s 315us/sample - loss: 0.5885 - mae: 0.6396 - val_loss: 0.5404 - val_mae: 0.5961\n",
      "Epoch 12/100\n",
      "337/337 [==============================] - 0s 529us/sample - loss: 0.5414 - mae: 0.6026 - val_loss: 0.5326 - val_mae: 0.6007\n",
      "Epoch 13/100\n",
      "337/337 [==============================] - 0s 323us/sample - loss: 0.5267 - mae: 0.5972 - val_loss: 0.5079 - val_mae: 0.5751\n",
      "Epoch 14/100\n",
      "337/337 [==============================] - 0s 311us/sample - loss: 0.5092 - mae: 0.5746 - val_loss: 0.5074 - val_mae: 0.5646\n",
      "Epoch 15/100\n",
      "337/337 [==============================] - 0s 315us/sample - loss: 0.5524 - mae: 0.5938 - val_loss: 0.5142 - val_mae: 0.5832\n",
      "Epoch 16/100\n",
      "337/337 [==============================] - 0s 545us/sample - loss: 0.5419 - mae: 0.6025 - val_loss: 0.5152 - val_mae: 0.5827\n",
      "Epoch 17/100\n",
      "337/337 [==============================] - 0s 310us/sample - loss: 0.4869 - mae: 0.5647 - val_loss: 0.5073 - val_mae: 0.5697\n",
      "Epoch 18/100\n",
      "337/337 [==============================] - 0s 313us/sample - loss: 0.5086 - mae: 0.5713 - val_loss: 0.5085 - val_mae: 0.5620\n",
      "Epoch 19/100\n",
      "337/337 [==============================] - 0s 307us/sample - loss: 0.4946 - mae: 0.5679 - val_loss: 0.5182 - val_mae: 0.5733\n",
      "Epoch 20/100\n",
      "337/337 [==============================] - 0s 309us/sample - loss: 0.4696 - mae: 0.5509 - val_loss: 0.5437 - val_mae: 0.5971\n",
      "Epoch 21/100\n",
      "337/337 [==============================] - 0s 317us/sample - loss: 0.4934 - mae: 0.5696 - val_loss: 0.5122 - val_mae: 0.5690\n",
      "Epoch 22/100\n",
      "337/337 [==============================] - 0s 308us/sample - loss: 0.4849 - mae: 0.5568 - val_loss: 0.5119 - val_mae: 0.5644\n",
      "Epoch 23/100\n",
      "337/337 [==============================] - 0s 308us/sample - loss: 0.4606 - mae: 0.5355 - val_loss: 0.5360 - val_mae: 0.5884\n",
      "Epoch 24/100\n",
      "337/337 [==============================] - 0s 535us/sample - loss: 0.4939 - mae: 0.5631 - val_loss: 0.5264 - val_mae: 0.5763\n",
      "Epoch 25/100\n",
      "337/337 [==============================] - 0s 314us/sample - loss: 0.5073 - mae: 0.5698 - val_loss: 0.5476 - val_mae: 0.5939\n",
      "Epoch 26/100\n",
      "337/337 [==============================] - 0s 304us/sample - loss: 0.4880 - mae: 0.5727 - val_loss: 0.5544 - val_mae: 0.6070\n",
      "Epoch 27/100\n",
      "337/337 [==============================] - 0s 311us/sample - loss: 0.4831 - mae: 0.5652 - val_loss: 0.5242 - val_mae: 0.5725\n",
      "Epoch 28/100\n",
      "337/337 [==============================] - 0s 305us/sample - loss: 0.4544 - mae: 0.5387 - val_loss: 0.5245 - val_mae: 0.5748\n",
      "Epoch 29/100\n",
      "337/337 [==============================] - 0s 307us/sample - loss: 0.4352 - mae: 0.5314 - val_loss: 0.5547 - val_mae: 0.6046\n",
      "Epoch 30/100\n",
      "337/337 [==============================] - 0s 312us/sample - loss: 0.4543 - mae: 0.5495 - val_loss: 0.5394 - val_mae: 0.5802\n",
      "Epoch 31/100\n",
      "337/337 [==============================] - 0s 308us/sample - loss: 0.4909 - mae: 0.5671 - val_loss: 0.5748 - val_mae: 0.6188\n",
      "Epoch 32/100\n",
      "337/337 [==============================] - 0s 309us/sample - loss: 0.4826 - mae: 0.5740 - val_loss: 0.5799 - val_mae: 0.6298\n",
      "Epoch 33/100\n",
      "337/337 [==============================] - 0s 309us/sample - loss: 0.4692 - mae: 0.5527 - val_loss: 0.5593 - val_mae: 0.5944\n",
      "Epoch 34/100\n",
      "337/337 [==============================] - 0s 541us/sample - loss: 0.4395 - mae: 0.5156 - val_loss: 0.5732 - val_mae: 0.6013\n",
      "Epoch 35/100\n",
      "337/337 [==============================] - 0s 313us/sample - loss: 0.4500 - mae: 0.5324 - val_loss: 0.5939 - val_mae: 0.6308\n",
      "Epoch 36/100\n",
      "337/337 [==============================] - 0s 302us/sample - loss: 0.4568 - mae: 0.5435 - val_loss: 0.5703 - val_mae: 0.6098\n",
      "Epoch 37/100\n",
      "337/337 [==============================] - 0s 314us/sample - loss: 0.4524 - mae: 0.5376 - val_loss: 0.5520 - val_mae: 0.5975\n",
      "Epoch 38/100\n",
      "337/337 [==============================] - 0s 535us/sample - loss: 0.4546 - mae: 0.5411 - val_loss: 0.5680 - val_mae: 0.6149\n",
      "Epoch 39/100\n",
      "337/337 [==============================] - 0s 313us/sample - loss: 0.4441 - mae: 0.5414 - val_loss: 0.5512 - val_mae: 0.5974\n",
      "Epoch 40/100\n",
      "337/337 [==============================] - 0s 304us/sample - loss: 0.4512 - mae: 0.5511 - val_loss: 0.5444 - val_mae: 0.5929\n",
      "Epoch 41/100\n",
      "337/337 [==============================] - 0s 312us/sample - loss: 0.4287 - mae: 0.5270 - val_loss: 0.5572 - val_mae: 0.6033\n",
      "Epoch 42/100\n",
      "337/337 [==============================] - 0s 305us/sample - loss: 0.4323 - mae: 0.5158 - val_loss: 0.5554 - val_mae: 0.5883\n",
      "Epoch 43/100\n",
      "337/337 [==============================] - 0s 545us/sample - loss: 0.4654 - mae: 0.5511 - val_loss: 0.6079 - val_mae: 0.6435\n",
      "Epoch 44/100\n",
      "337/337 [==============================] - 0s 313us/sample - loss: 0.4642 - mae: 0.5527 - val_loss: 0.6076 - val_mae: 0.6359\n",
      "Epoch 45/100\n",
      "337/337 [==============================] - 0s 310us/sample - loss: 0.4387 - mae: 0.5277 - val_loss: 0.5985 - val_mae: 0.5975\n",
      "Epoch 46/100\n",
      "337/337 [==============================] - 0s 302us/sample - loss: 0.4629 - mae: 0.5453 - val_loss: 0.6306 - val_mae: 0.6539\n",
      "Epoch 47/100\n",
      "337/337 [==============================] - 0s 535us/sample - loss: 0.4343 - mae: 0.5348 - val_loss: 0.5741 - val_mae: 0.6067\n",
      "Epoch 48/100\n",
      "337/337 [==============================] - 0s 318us/sample - loss: 0.4366 - mae: 0.5331 - val_loss: 0.5647 - val_mae: 0.5975\n",
      "Epoch 49/100\n",
      "337/337 [==============================] - 0s 304us/sample - loss: 0.4278 - mae: 0.5284 - val_loss: 0.5874 - val_mae: 0.6261\n",
      "Epoch 50/100\n",
      "337/337 [==============================] - 0s 311us/sample - loss: 0.4498 - mae: 0.5436 - val_loss: 0.5709 - val_mae: 0.6008\n",
      "Epoch 51/100\n",
      "337/337 [==============================] - 0s 308us/sample - loss: 0.4160 - mae: 0.5182 - val_loss: 0.5678 - val_mae: 0.6056\n",
      "Epoch 52/100\n",
      "337/337 [==============================] - 0s 531us/sample - loss: 0.4440 - mae: 0.5201 - val_loss: 0.5819 - val_mae: 0.6168\n",
      "Epoch 53/100\n",
      "337/337 [==============================] - 0s 317us/sample - loss: 0.4175 - mae: 0.5194 - val_loss: 0.5792 - val_mae: 0.6111\n",
      "Epoch 54/100\n",
      "337/337 [==============================] - 0s 312us/sample - loss: 0.4165 - mae: 0.5090 - val_loss: 0.5858 - val_mae: 0.6244\n",
      "Epoch 55/100\n",
      "337/337 [==============================] - 0s 313us/sample - loss: 0.4114 - mae: 0.5120 - val_loss: 0.5807 - val_mae: 0.6192\n",
      "Epoch 56/100\n",
      "337/337 [==============================] - 0s 534us/sample - loss: 0.4119 - mae: 0.5174 - val_loss: 0.5836 - val_mae: 0.6253\n",
      "Epoch 57/100\n",
      "337/337 [==============================] - 0s 314us/sample - loss: 0.4578 - mae: 0.5355 - val_loss: 0.5635 - val_mae: 0.6103\n",
      "Epoch 58/100\n",
      "337/337 [==============================] - 0s 313us/sample - loss: 0.4214 - mae: 0.5104 - val_loss: 0.5736 - val_mae: 0.6111\n",
      "Epoch 59/100\n",
      "337/337 [==============================] - 0s 302us/sample - loss: 0.4181 - mae: 0.5247 - val_loss: 0.5758 - val_mae: 0.6211\n",
      "Epoch 60/100\n"
     ]
    },
    {
     "name": "stdout",
     "output_type": "stream",
     "text": [
      "337/337 [==============================] - 0s 312us/sample - loss: 0.3991 - mae: 0.5107 - val_loss: 0.5462 - val_mae: 0.5996\n",
      "Epoch 61/100\n",
      "337/337 [==============================] - 0s 536us/sample - loss: 0.3803 - mae: 0.4831 - val_loss: 0.5701 - val_mae: 0.6100\n",
      "Epoch 62/100\n",
      "337/337 [==============================] - 0s 306us/sample - loss: 0.3967 - mae: 0.4989 - val_loss: 0.5489 - val_mae: 0.5957\n",
      "Epoch 63/100\n",
      "337/337 [==============================] - 0s 313us/sample - loss: 0.4281 - mae: 0.5165 - val_loss: 0.5497 - val_mae: 0.5945\n",
      "Epoch 64/100\n",
      "337/337 [==============================] - 0s 310us/sample - loss: 0.3896 - mae: 0.5006 - val_loss: 0.5524 - val_mae: 0.6084\n",
      "Epoch 65/100\n",
      "337/337 [==============================] - 0s 305us/sample - loss: 0.3932 - mae: 0.5023 - val_loss: 0.5438 - val_mae: 0.5946\n",
      "Epoch 66/100\n",
      "337/337 [==============================] - 0s 322us/sample - loss: 0.3899 - mae: 0.4948 - val_loss: 0.5588 - val_mae: 0.6109\n",
      "Epoch 67/100\n",
      "337/337 [==============================] - 0s 309us/sample - loss: 0.3858 - mae: 0.5042 - val_loss: 0.5677 - val_mae: 0.6173\n",
      "Epoch 68/100\n",
      "337/337 [==============================] - 0s 328us/sample - loss: 0.3745 - mae: 0.4945 - val_loss: 0.5423 - val_mae: 0.5908\n",
      "Epoch 69/100\n",
      "337/337 [==============================] - 0s 543us/sample - loss: 0.3941 - mae: 0.5016 - val_loss: 0.5714 - val_mae: 0.6148\n",
      "Epoch 70/100\n",
      "337/337 [==============================] - 0s 307us/sample - loss: 0.3959 - mae: 0.5003 - val_loss: 0.5563 - val_mae: 0.5998\n",
      "Epoch 71/100\n",
      "337/337 [==============================] - 0s 313us/sample - loss: 0.3824 - mae: 0.4868 - val_loss: 0.5764 - val_mae: 0.6227\n",
      "Epoch 72/100\n",
      "337/337 [==============================] - 0s 305us/sample - loss: 0.4045 - mae: 0.5128 - val_loss: 0.5611 - val_mae: 0.6053\n",
      "Epoch 73/100\n",
      "337/337 [==============================] - 0s 321us/sample - loss: 0.3804 - mae: 0.4828 - val_loss: 0.5578 - val_mae: 0.5982\n",
      "Epoch 74/100\n",
      "337/337 [==============================] - 0s 301us/sample - loss: 0.3871 - mae: 0.4943 - val_loss: 0.5845 - val_mae: 0.6228\n",
      "Epoch 75/100\n",
      "337/337 [==============================] - 0s 311us/sample - loss: 0.3685 - mae: 0.4731 - val_loss: 0.5524 - val_mae: 0.6109\n",
      "Epoch 76/100\n",
      "337/337 [==============================] - 0s 309us/sample - loss: 0.4018 - mae: 0.5124 - val_loss: 0.5564 - val_mae: 0.6030\n",
      "Epoch 77/100\n",
      "337/337 [==============================] - 0s 302us/sample - loss: 0.3796 - mae: 0.4915 - val_loss: 0.5707 - val_mae: 0.6046\n",
      "Epoch 78/100\n",
      "337/337 [==============================] - 0s 308us/sample - loss: 0.3694 - mae: 0.4870 - val_loss: 0.5792 - val_mae: 0.6251\n",
      "Epoch 79/100\n",
      "337/337 [==============================] - 0s 309us/sample - loss: 0.3736 - mae: 0.4913 - val_loss: 0.5564 - val_mae: 0.5933\n",
      "Epoch 80/100\n",
      "337/337 [==============================] - 0s 311us/sample - loss: 0.3588 - mae: 0.4685 - val_loss: 0.6052 - val_mae: 0.6308\n",
      "Epoch 81/100\n",
      "337/337 [==============================] - 0s 311us/sample - loss: 0.4017 - mae: 0.4988 - val_loss: 0.5208 - val_mae: 0.5628\n",
      "Epoch 82/100\n",
      "337/337 [==============================] - 0s 302us/sample - loss: 0.3694 - mae: 0.4809 - val_loss: 0.5479 - val_mae: 0.6099\n",
      "Epoch 83/100\n",
      "337/337 [==============================] - 0s 321us/sample - loss: 0.4039 - mae: 0.5097 - val_loss: 0.5403 - val_mae: 0.5986\n",
      "Epoch 84/100\n",
      "337/337 [==============================] - 0s 310us/sample - loss: 0.3839 - mae: 0.5013 - val_loss: 0.5576 - val_mae: 0.5991\n",
      "Epoch 85/100\n",
      "337/337 [==============================] - 0s 311us/sample - loss: 0.3329 - mae: 0.4509 - val_loss: 0.6029 - val_mae: 0.6359\n",
      "Epoch 86/100\n",
      "337/337 [==============================] - 0s 540us/sample - loss: 0.3558 - mae: 0.4720 - val_loss: 0.5968 - val_mae: 0.6280\n",
      "Epoch 87/100\n",
      "337/337 [==============================] - 0s 320us/sample - loss: 0.3447 - mae: 0.4665 - val_loss: 0.5767 - val_mae: 0.6175\n",
      "Epoch 88/100\n",
      "337/337 [==============================] - 0s 310us/sample - loss: 0.3474 - mae: 0.4765 - val_loss: 0.5668 - val_mae: 0.6193\n",
      "Epoch 89/100\n",
      "337/337 [==============================] - 0s 312us/sample - loss: 0.3402 - mae: 0.4489 - val_loss: 0.5269 - val_mae: 0.5844\n",
      "Epoch 90/100\n",
      "337/337 [==============================] - 0s 531us/sample - loss: 0.3474 - mae: 0.4737 - val_loss: 0.5411 - val_mae: 0.5919\n",
      "Epoch 91/100\n",
      "337/337 [==============================] - 0s 324us/sample - loss: 0.3638 - mae: 0.4920 - val_loss: 0.5563 - val_mae: 0.6106\n",
      "Epoch 92/100\n",
      "337/337 [==============================] - 0s 578us/sample - loss: 0.3844 - mae: 0.4900 - val_loss: 0.5538 - val_mae: 0.5812\n",
      "Epoch 93/100\n",
      "337/337 [==============================] - 0s 313us/sample - loss: 0.3833 - mae: 0.4955 - val_loss: 0.5601 - val_mae: 0.6164\n",
      "Epoch 94/100\n",
      "337/337 [==============================] - 0s 308us/sample - loss: 0.3416 - mae: 0.4711 - val_loss: 0.5331 - val_mae: 0.5890\n",
      "Epoch 95/100\n",
      "337/337 [==============================] - 0s 310us/sample - loss: 0.3466 - mae: 0.4788 - val_loss: 0.5700 - val_mae: 0.6186\n",
      "Epoch 96/100\n",
      "337/337 [==============================] - 0s 541us/sample - loss: 0.3367 - mae: 0.4606 - val_loss: 0.5864 - val_mae: 0.6209\n",
      "Epoch 97/100\n",
      "337/337 [==============================] - 0s 307us/sample - loss: 0.3736 - mae: 0.4837 - val_loss: 0.5579 - val_mae: 0.6066\n",
      "Epoch 98/100\n",
      "337/337 [==============================] - 0s 310us/sample - loss: 0.3416 - mae: 0.4621 - val_loss: 0.5804 - val_mae: 0.6244\n",
      "Epoch 99/100\n",
      "337/337 [==============================] - 0s 309us/sample - loss: 0.3237 - mae: 0.4479 - val_loss: 0.5995 - val_mae: 0.6206\n",
      "Epoch 100/100\n",
      "337/337 [==============================] - 0s 530us/sample - loss: 0.3326 - mae: 0.4553 - val_loss: 0.6032 - val_mae: 0.6278\n"
     ]
    }
   ],
   "source": [
    "# Train the model, with some of the data reserved for validation\n",
    "\n",
    "history = model.fit(train_data, train_targets, epochs=100,\n",
    "                   validation_split=0.15, batch_size=64)"
   ]
  },
  {
   "cell_type": "code",
   "execution_count": 43,
   "metadata": {},
   "outputs": [
    {
     "name": "stdout",
     "output_type": "stream",
     "text": [
      "\r",
      "45/1 [======================================================================================================================================================================================================================================================================================================================================================================================================================================================================================================================================================================================================================================================================================================================================================================================================================================================================================================================================================================================================================================================================================================================================================================================================================================================================================================================================================================================================] - 0s 70us/sample - loss: 0.8741 - mae: 0.7231\n"
     ]
    },
    {
     "data": {
      "text/plain": [
       "[0.7829070197211372, 0.72307825]"
      ]
     },
     "execution_count": 43,
     "metadata": {},
     "output_type": "execute_result"
    }
   ],
   "source": [
    "# Evaluate the model on the test set\n",
    "\n",
    "model.evaluate(test_data, test_targets)"
   ]
  },
  {
   "cell_type": "markdown",
   "metadata": {},
   "source": [
    "#### Plot the learning curves"
   ]
  },
  {
   "cell_type": "code",
   "execution_count": 44,
   "metadata": {},
   "outputs": [
    {
     "data": {
      "image/png": "[encoded data removed]",
      "text/plain": [
       "<Figure size 432x288 with 1 Axes>"
      ]
     },
     "metadata": {
      "needs_background": "light"
     },
     "output_type": "display_data"
    }
   ],
   "source": [
    "# Plot the training and validation loss\n",
    "\n",
    "import matplotlib.pyplot as plt\n",
    "\n",
    "plt.plot(history.history['loss'])\n",
    "plt.plot(history.history['val_loss'])\n",
    "plt.title('Loss vs. epochs')\n",
    "plt.ylabel('Loss')\n",
    "plt.xlabel('Epoch')\n",
    "plt.legend(['Training', 'Validation'], loc='upper right')\n",
    "plt.show()"
   ]
  },
  {
   "cell_type": "markdown",
   "metadata": {},
   "source": [
    "***\n",
    "<a id=\"coding_tutorial_3\"></a>\n",
    "## Introduction to callbacks"
   ]
  },
  {
   "cell_type": "markdown",
   "metadata": {},
   "source": [
    "#### Example training callback"
   ]
  },
  {
   "cell_type": "code",
   "execution_count": 47,
   "metadata": {},
   "outputs": [],
   "source": [
    "# Write a custom callback\n",
    "\n",
    "from tensorflow.keras.callbacks import Callback\n",
    "\n",
    "class TrainingCallback(Callback):\n",
    "    \n",
    "    def on_train_begin(self, logs=None):\n",
    "        print(\"Strating Training.........\")\n",
    "        \n",
    "    def on_epoch_begin(self, epoch, logs=None):\n",
    "        print(f\"Starting epoch : {epoch}\")\n",
    "        \n",
    "    def on_train_batch_begin(self, batch, logs=None):\n",
    "        print(f\"Starting batch : {batch}\")\n",
    "        \n",
    "    def on_train_end(self, logs=None):\n",
    "        print(f\"Finishing Training!\")"
   ]
  },
  {
   "cell_type": "code",
   "execution_count": 48,
   "metadata": {},
   "outputs": [],
   "source": [
    "# Re-build the model\n",
    "\n",
    "model = get_regularised_model(1e-5, 0.3)"
   ]
  },
  {
   "cell_type": "code",
   "execution_count": 49,
   "metadata": {},
   "outputs": [],
   "source": [
    "# Compile the model\n",
    "\n",
    "model.compile(optimizer='adam', loss='mse', metrics=['mae'])"
   ]
  },
  {
   "cell_type": "markdown",
   "metadata": {},
   "source": [
    "#### Train the model with the callback"
   ]
  },
  {
   "cell_type": "code",
   "execution_count": 50,
   "metadata": {},
   "outputs": [
    {
     "name": "stdout",
     "output_type": "stream",
     "text": [
      "Strating Training.........\n",
      "Starting epoch : 0\n",
      "Starting batch : 0\n",
      "Starting batch : 1\n",
      "Starting batch : 2\n",
      "Starting batch : 3\n",
      "Starting epoch : 1\n",
      "Starting batch : 0\n",
      "Starting batch : 1\n",
      "Starting batch : 2\n",
      "Starting batch : 3\n",
      "Starting epoch : 2\n",
      "Starting batch : 0\n",
      "Starting batch : 1\n",
      "Starting batch : 2\n",
      "Starting batch : 3\n",
      "Starting epoch : 3\n",
      "Starting batch : 0\n",
      "Starting batch : 1\n",
      "Starting batch : 2\n",
      "Starting batch : 3\n",
      "Starting epoch : 4\n",
      "Starting batch : 0\n",
      "Starting batch : 1\n",
      "Starting batch : 2\n",
      "Starting batch : 3\n",
      "Finishing Training!\n"
     ]
    },
    {
     "data": {
      "text/plain": [
       "<tensorflow.python.keras.callbacks.History at 0x7fee4c5405f8>"
      ]
     },
     "execution_count": 50,
     "metadata": {},
     "output_type": "execute_result"
    }
   ],
   "source": [
    "# Train the model, with some of the data reserved for validation\n",
    "\n",
    "model.fit(train_data, train_targets, epochs=5, batch_size=128, verbose=False, callbacks=[TrainingCallback()])"
   ]
  },
  {
   "cell_type": "code",
   "execution_count": 51,
   "metadata": {},
   "outputs": [
    {
     "data": {
      "text/plain": [
       "[0.7809004174338446, 0.7548764]"
      ]
     },
     "execution_count": 51,
     "metadata": {},
     "output_type": "execute_result"
    }
   ],
   "source": [
    "# Evaluate the model\n",
    "\n",
    "model.evaluate(test_data, test_targets, verbose=False, callbacks=[TrainingCallback()])"
   ]
  },
  {
   "cell_type": "code",
   "execution_count": 54,
   "metadata": {},
   "outputs": [
    {
     "data": {
      "text/plain": [
       "array([[ 0.29807225],\n",
       "       [-0.14636168],\n",
       "       [ 0.8492386 ],\n",
       "       [ 0.23140438],\n",
       "       [-0.08645414],\n",
       "       [ 0.36470133],\n",
       "       [ 0.36148918],\n",
       "       [-0.15719137],\n",
       "       [ 0.6428796 ],\n",
       "       [ 0.6445428 ],\n",
       "       [ 0.49701923],\n",
       "       [ 0.19522853],\n",
       "       [-0.01510165],\n",
       "       [-0.14514235],\n",
       "       [ 0.47990003],\n",
       "       [ 0.12617745],\n",
       "       [-0.15999874],\n",
       "       [-0.15644954],\n",
       "       [-0.1556562 ],\n",
       "       [ 0.1727983 ],\n",
       "       [ 0.32685268],\n",
       "       [-0.15725204],\n",
       "       [-0.13874526],\n",
       "       [ 0.40723616],\n",
       "       [ 0.36914188],\n",
       "       [ 0.10244928],\n",
       "       [-0.12577546],\n",
       "       [ 0.3791263 ],\n",
       "       [ 0.32285154],\n",
       "       [ 0.21272412],\n",
       "       [ 0.04415113],\n",
       "       [ 0.7089966 ],\n",
       "       [ 0.4510565 ],\n",
       "       [-0.14140353],\n",
       "       [-0.14560717],\n",
       "       [-0.12105749],\n",
       "       [-0.13025153],\n",
       "       [ 0.3689917 ],\n",
       "       [ 0.61148113],\n",
       "       [ 0.3680104 ],\n",
       "       [ 0.16623536],\n",
       "       [ 0.06466784],\n",
       "       [-0.01191748],\n",
       "       [ 0.39545628],\n",
       "       [-0.02291776]], dtype=float32)"
      ]
     },
     "execution_count": 54,
     "metadata": {},
     "output_type": "execute_result"
    }
   ],
   "source": [
    "# Make predictions with the model\n",
    "\n",
    "model.predict(test_data, verbose=False, callbacks=[TrainingCallback()])"
   ]
  },
  {
   "cell_type": "markdown",
   "metadata": {},
   "source": [
    "***\n",
    "<a id=\"coding_tutorial_4\"></a>\n",
    "## Early stopping / patience"
   ]
  },
  {
   "cell_type": "markdown",
   "metadata": {},
   "source": [
    "#### Re-train the models with early stopping"
   ]
  },
  {
   "cell_type": "code",
   "execution_count": 81,
   "metadata": {},
   "outputs": [],
   "source": [
    "# Re-train the unregularised model\n",
    "\n",
    "unreg_model = get_model()\n",
    "unreg_model.compile(optimizer='adam', loss='mse', metrics=['mae'])\n",
    "unreg_history = unreg_model.fit(train_data, train_targets, epochs=100,\n",
    "                validation_split=0.15, batch_size=64, verbose=False,\n",
    "                callbacks=[tf.keras.callbacks.EarlyStopping(patience=4)])"
   ]
  },
  {
   "cell_type": "code",
   "execution_count": 82,
   "metadata": {},
   "outputs": [
    {
     "name": "stdout",
     "output_type": "stream",
     "text": [
      "45/1 - 0s - loss: 0.5725 - mae: 0.6170\n"
     ]
    },
    {
     "data": {
      "text/plain": [
       "[0.5655602600839403, 0.6169785]"
      ]
     },
     "execution_count": 82,
     "metadata": {},
     "output_type": "execute_result"
    }
   ],
   "source": [
    "# Evaluate the model on the test set\n",
    "\n",
    "unreg_model.evaluate(test_data, test_targets, verbose=2)"
   ]
  },
  {
   "cell_type": "code",
   "execution_count": 83,
   "metadata": {},
   "outputs": [],
   "source": [
    "# Re-train the regularised model\n",
    "\n",
    "reg_model = get_regularised_model(1e-5, 0.3)\n",
    "reg_model.compile(optimizer='adam', loss='mse', metrics=['mae'])\n",
    "reg_history = reg_model.fit(train_data, train_targets, epochs=100,\n",
    "                validation_split=0.15, batch_size=64, verbose=False,\n",
    "                callbacks=[tf.keras.callbacks.EarlyStopping(patience=4)])"
   ]
  },
  {
   "cell_type": "code",
   "execution_count": 84,
   "metadata": {},
   "outputs": [
    {
     "name": "stdout",
     "output_type": "stream",
     "text": [
      "45/1 - 0s - loss: 0.6184 - mae: 0.6298\n"
     ]
    },
    {
     "data": {
      "text/plain": [
       "[0.62460841205385, 0.62984693]"
      ]
     },
     "execution_count": 84,
     "metadata": {},
     "output_type": "execute_result"
    }
   ],
   "source": [
    "# Evaluate the model on the test set\n",
    "\n",
    "reg_model.evaluate(test_data, test_targets, verbose=2)"
   ]
  },
  {
   "cell_type": "markdown",
   "metadata": {},
   "source": [
    "#### Plot the learning curves"
   ]
  },
  {
   "cell_type": "code",
   "execution_count": 85,
   "metadata": {},
   "outputs": [
    {
     "data": {
      "image/png": "[encoded data removed]",
      "text/plain": [
       "<Figure size 864x360 with 2 Axes>"
      ]
     },
     "metadata": {
      "needs_background": "light"
     },
     "output_type": "display_data"
    }
   ],
   "source": [
    "# Plot the training and validation loss\n",
    "\n",
    "import matplotlib.pyplot as plt\n",
    "\n",
    "fig = plt.figure(figsize=(12, 5))\n",
    "\n",
    "fig.add_subplot(121)\n",
    "\n",
    "plt.plot(unreg_history.history['loss'])\n",
    "plt.plot(unreg_history.history['val_loss'])\n",
    "plt.title('Unregularised model: loss vs. epochs')\n",
    "plt.ylabel('Loss')\n",
    "plt.xlabel('Epoch')\n",
    "plt.legend(['Training', 'Validation'], loc='upper right')\n",
    "\n",
    "fig.add_subplot(122)\n",
    "\n",
    "plt.plot(reg_history.history['loss'])\n",
    "plt.plot(reg_history.history['val_loss'])\n",
    "plt.title('Regularised model: loss vs. epochs')\n",
    "plt.ylabel('Loss')\n",
    "plt.xlabel('Epoch')\n",
    "plt.legend(['Training', 'Validation'], loc='upper right')\n",
    "\n",
    "plt.show()"
   ]
  },
  {
   "cell_type": "code",
   "execution_count": null,
   "metadata": {},
   "outputs": [],
   "source": []
  }
 ],
 "metadata": {
  "kernelspec": {
   "display_name": "Python 3",
   "language": "python",
   "name": "python3"
  },
  "language_info": {
   "codemirror_mode": {
    "name": "ipython",
    "version": 3
   },
   "file_extension": ".py",
   "mimetype": "text/x-python",
   "name": "python",
   "nbconvert_exporter": "python",
   "pygments_lexer": "ipython3",
   "version": "3.7.1"
  }
 },
 "nbformat": 4,
 "nbformat_minor": 2
}
